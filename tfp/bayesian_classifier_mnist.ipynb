{
 "cells": [
  {
   "cell_type": "code",
   "execution_count": 1,
   "metadata": {},
   "outputs": [],
   "source": [
    "from collections import defaultdict\n",
    "\n",
    "import tensorflow as tf\n",
    "import tensorflow.keras as tfk\n",
    "import tensorflow_probability as tfp\n",
    "tfd = tfp.distributions\n",
    "tfb = tfp.bijectors\n",
    "\n",
    "import tqdm\n",
    "import numpy as np\n",
    "import pandas as pd\n",
    "\n",
    "%matplotlib inline\n",
    "import matplotlib.pyplot as plt"
   ]
  },
  {
   "cell_type": "code",
   "execution_count": 2,
   "metadata": {},
   "outputs": [],
   "source": [
    "mnist = tf.keras.datasets.mnist\n",
    "\n",
    "(x_train, y_train), (x_test, y_test) = mnist.load_data()\n",
    "x_train, x_test = x_train / 255.0, x_test / 255.0\n",
    "\n",
    "# uint8 is not popular\n",
    "y_train = y_train.astype('i4')\n",
    "y_test = y_test.astype('i4')\n",
    "\n",
    "# Add a channels dimension\n",
    "x_train = x_train[..., tf.newaxis].astype('f4')\n",
    "x_test = x_test[..., tf.newaxis].astype('f4')\n",
    "n_train = x_train.shape[0]"
   ]
  },
  {
   "cell_type": "code",
   "execution_count": 3,
   "metadata": {},
   "outputs": [],
   "source": [
    "model = tfk.Sequential([\n",
    "    # tfk.layers.Reshape([28, 28, 1]),\n",
    "    tfp.layers.Convolution2DReparameterization(filters=32, kernel_size=3, activation='relu'),\n",
    "    tfk.layers.MaxPool2D(),\n",
    "    tfk.layers.Flatten(),\n",
    "    tfp.layers.DenseReparameterization(128, activation='relu'),\n",
    "    tfp.layers.DenseReparameterization(10),\n",
    "])\n",
    "# model.build((1, 28, 28, 1))\n",
    "# model.summary()"
   ]
  },
  {
   "cell_type": "code",
   "execution_count": 4,
   "metadata": {},
   "outputs": [],
   "source": [
    "optimizer = tfk.optimizers.Adam()\n",
    "\n",
    "train_loss = tfk.metrics.Mean(name='train_loss')\n",
    "train_accuracy = tfk.metrics.SparseCategoricalAccuracy(name='train_accuracy')\n",
    "\n",
    "test_loss = tfk.metrics.Mean(name='test_loss')\n",
    "test_accuracy = tfk.metrics.SparseCategoricalAccuracy(name='test_accuracy')\n",
    "\n",
    "BATCH_SIZE = 2**6\n",
    "SAMPLE_SIZE = 64\n",
    "\n",
    "train_ds = (tf.data.Dataset.from_tensor_slices((x_train, y_train))\n",
    "            .shuffle(10000)\n",
    "            .batch(BATCH_SIZE, drop_remainder=True)\n",
    "           )\n",
    "\n",
    "test_ds = (tf.data.Dataset.from_tensor_slices((x_test, y_test))\n",
    "           .batch(BATCH_SIZE, drop_remainder=True)\n",
    "          )"
   ]
  },
  {
   "cell_type": "code",
   "execution_count": 5,
   "metadata": {},
   "outputs": [
    {
     "name": "stdout",
     "output_type": "stream",
     "text": [
      "tf.Tensor([0.56992924 0.10512032], shape=(2,), dtype=float32)\n",
      "tf.Tensor([0.56992925 0.1051203 ], shape=(2,), dtype=float64)\n"
     ]
    }
   ],
   "source": [
    "# so many functions... just check they are the same\n",
    "predictions = np.array([[-3.2, 0.4, 0.1], [-1.2, -9.1, 1.0]])\n",
    "labels = np.array([1, 2])\n",
    "print(- tfd.Categorical(logits=predictions).log_prob(labels))\n",
    "print(tf.nn.sparse_softmax_cross_entropy_with_logits(labels=labels, logits=predictions))"
   ]
  },
  {
   "cell_type": "code",
   "execution_count": 6,
   "metadata": {},
   "outputs": [],
   "source": [
    "@tf.function\n",
    "def train_step(images, labels):\n",
    "    with tf.GradientTape() as tape:\n",
    "        # no explicit model weight posterior sampling here\n",
    "        logits = model(images)\n",
    "        nll = tf.nn.sparse_softmax_cross_entropy_with_logits(labels=labels, logits=logits)\n",
    "        nll = tf.reduce_mean(nll)\n",
    "        kldiv = sum(model.losses) / n_train\n",
    "        loss = nll + kldiv\n",
    "\n",
    "    gradients = tape.gradient(loss, model.trainable_variables)\n",
    "    optimizer.apply_gradients(zip(gradients, model.trainable_variables))\n",
    "\n",
    "    train_loss(loss)\n",
    "    train_accuracy(labels, logits)"
   ]
  },
  {
   "cell_type": "code",
   "execution_count": 7,
   "metadata": {},
   "outputs": [],
   "source": [
    "@tf.function\n",
    "def test_step(images, labels, sampling=False):\n",
    "    if sampling:\n",
    "        # this doesn't work, tf.tile seems to shortcut sampling weights\n",
    "        stack = tf.tile(images, (SAMPLE_SIZE, 1, 1, 1))\n",
    "        sample_logits = tf.reshape(model(stack), (SAMPLE_SIZE, images.shape[0], 10))\n",
    "        logits = tfp.stats.percentile(sample_logits, axis=0, q=0.5)\n",
    "    else:\n",
    "        logits = model(images)\n",
    "    nll = tf.nn.sparse_softmax_cross_entropy_with_logits(labels=labels, logits=logits)\n",
    "    nll = tf.reduce_mean(nll)\n",
    "    \n",
    "    test_loss(nll)\n",
    "    test_accuracy(labels, logits)"
   ]
  },
  {
   "cell_type": "code",
   "execution_count": 8,
   "metadata": {},
   "outputs": [],
   "source": [
    "@tf.function\n",
    "def evaluate(images):\n",
    "    return tf.nn.softmax(model(images))\n",
    "#     stack = tf.tile(images, (SAMPLE_SIZE, 1, 1, 1))\n",
    "#     sample_logits = tf.reshape(model(stack), (SAMPLE_SIZE, images.shape[0], 10))\n",
    "#     logits = tfp.stats.percentile(sample_logits, axis=0, q=0.5)\n",
    "#     return tf.nn.softmax(sample_logits)"
   ]
  },
  {
   "cell_type": "code",
   "execution_count": 9,
   "metadata": {},
   "outputs": [
    {
     "name": "stderr",
     "output_type": "stream",
     "text": [
      "  0%|          | 0/20 [00:00<?, ?epoch/s]WARNING: Logging before flag parsing goes to stderr.\n",
      "W0930 21:52:41.151865 140735523619712 deprecation.py:323] From /Users/ncsmith/miniconda3/envs/tfd/lib/python3.7/site-packages/tensorflow_probability/python/layers/util.py:103: Layer.add_variable (from tensorflow.python.keras.engine.base_layer) is deprecated and will be removed in a future version.\n",
      "Instructions for updating:\n",
      "Please use `layer.add_weight` method instead.\n",
      "100%|██████████| 20/20 [05:56<00:00, 17.83s/epoch]\n"
     ]
    }
   ],
   "source": [
    "EPOCHS = 20\n",
    "history = defaultdict(list)\n",
    "\n",
    "for epoch in tqdm.trange(EPOCHS, unit='epoch'):\n",
    "    if epoch == 10:\n",
    "        optimizer.lr = 1e-4\n",
    "    for images, labels in train_ds:\n",
    "        train_step(images, labels)\n",
    "\n",
    "    for test_images, test_labels in test_ds:\n",
    "        test_step(test_images, test_labels)\n",
    "\n",
    "    history['train_loss'].append(float(train_loss.result()))\n",
    "    history['train_accuracy'].append(float(train_accuracy.result()))\n",
    "    history['test_loss'].append(float(test_loss.result()))\n",
    "    history['test_accuracy'].append(float(test_accuracy.result()))\n",
    "\n",
    "    # Reset the metrics for the next epoch\n",
    "    train_loss.reset_states()\n",
    "    train_accuracy.reset_states()\n",
    "    test_loss.reset_states()\n",
    "    test_accuracy.reset_states()\n",
    "    "
   ]
  },
  {
   "cell_type": "code",
   "execution_count": 10,
   "metadata": {},
   "outputs": [
    {
     "data": {
      "text/plain": [
       "<matplotlib.axes._subplots.AxesSubplot at 0x637794ef0>"
      ]
     },
     "execution_count": 10,
     "metadata": {},
     "output_type": "execute_result"
    },
    {
     "data": {
      "image/png": "[encoded data removed]",
      "text/plain": [
       "<Figure size 432x288 with 1 Axes>"
      ]
     },
     "metadata": {
      "needs_background": "light"
     },
     "output_type": "display_data"
    }
   ],
   "source": [
    "pd.DataFrame(history).plot()"
   ]
  },
  {
   "cell_type": "code",
   "execution_count": 11,
   "metadata": {},
   "outputs": [
    {
     "name": "stderr",
     "output_type": "stream",
     "text": [
      "100%|██████████| 157/157 [00:53<00:00,  2.91it/s]\n"
     ]
    }
   ],
   "source": [
    "n_test = x_test.shape[0]\n",
    "class_max = np.empty(n_test)\n",
    "CHUNK = 64\n",
    "for chunk in tqdm.trange(n_test // CHUNK + 1):\n",
    "    images = x_test[chunk*CHUNK:(chunk+1)*CHUNK]\n",
    "    sample_probs = np.empty((SAMPLE_SIZE, images.shape[0], 10))\n",
    "    for j in range(SAMPLE_SIZE):\n",
    "        sample_probs[j] = evaluate(images)\n",
    "    median_prob = np.median(sample_probs, axis=0)\n",
    "    class_max[chunk*CHUNK:(chunk+1)*CHUNK] = np.max(median_prob, axis=1)"
   ]
  },
  {
   "cell_type": "code",
   "execution_count": 12,
   "metadata": {},
   "outputs": [
    {
     "name": "stdout",
     "output_type": "stream",
     "text": [
      "Tough entries: [ 543  684  726 1326 1549 1709 1790 2018 2182 2266 2836 2921 2927 3030\n",
      " 3559 3778 3853 3893 4007 4065 4256 4289 4601 5642 5734 5997 6625 6651\n",
      " 8094 8408 9634 9768]\n"
     ]
    }
   ],
   "source": [
    "tough_entries, = np.where(class_max < 0.4)\n",
    "print(\"Tough entries:\", tough_entries)\n",
    "\n",
    "for i in tough_entries:\n",
    "    ex = x_test[i,...,0]\n",
    "    lbl = y_test[i]\n",
    "    # ex = np.random.rand(28, 28).astype('f4')\n",
    "\n",
    "    fig, (ax_im, ax_p) = plt.subplots(ncols=2, figsize=(12, 5))\n",
    "\n",
    "    ax_im.set_title(\"Entry %d, label: %d\" % (i, lbl))\n",
    "    ax_im.imshow(ex)\n",
    "\n",
    "    sample_probs = np.empty((SAMPLE_SIZE, 10))\n",
    "    for j in range(SAMPLE_SIZE):\n",
    "        sample_probs[j] = evaluate(ex[None,...,None])\n",
    "    \n",
    "    ax_p.violinplot(sample_probs, positions=np.arange(10), showmedians=True)\n",
    "    ax_p.set_ylabel('Probability')\n",
    "    ax_p.set_xlabel('Class')\n",
    "    \n",
    "    fig.savefig('tough/entry_%d.png' % i)\n",
    "    plt.close(fig)"
   ]
  },
  {
   "cell_type": "code",
   "execution_count": 13,
   "metadata": {},
   "outputs": [
    {
     "name": "stdout",
     "output_type": "stream",
     "text": [
      "Easy entries: [   0    1    2 ... 9997 9998 9999]\n"
     ]
    }
   ],
   "source": [
    "easy_entries, = np.where(class_max > 0.999)\n",
    "print(\"Easy entries:\", easy_entries)\n",
    "\n",
    "for i in easy_entries[:5]:\n",
    "    ex = x_test[i,...,0]\n",
    "    lbl = y_test[i]\n",
    "    # ex = np.random.rand(28, 28).astype('f4')\n",
    "\n",
    "    fig, (ax_im, ax_p) = plt.subplots(ncols=2, figsize=(12, 5))\n",
    "\n",
    "    ax_im.set_title(\"Entry %d, label: %d\" % (i, lbl))\n",
    "    ax_im.imshow(ex)\n",
    "\n",
    "    sample_probs = np.empty((SAMPLE_SIZE, 10))\n",
    "    for j in range(SAMPLE_SIZE):\n",
    "        sample_probs[j] = evaluate(ex[None,...,None])\n",
    "    \n",
    "    ax_p.violinplot(sample_probs, positions=np.arange(10), showmedians=True)\n",
    "    ax_p.set_ylabel('Probability')\n",
    "    ax_p.set_xlabel('Class')\n",
    "    \n",
    "    fig.savefig('easy/entry_%d.png' % i)\n",
    "    plt.close(fig)"
   ]
  },
  {
   "cell_type": "code",
   "execution_count": null,
   "metadata": {},
   "outputs": [],
   "source": []
  },
  {
   "cell_type": "code",
   "execution_count": null,
   "metadata": {},
   "outputs": [],
   "source": []
  }
 ],
 "metadata": {
  "kernelspec": {
   "display_name": "Python 3",
   "language": "python",
   "name": "python3"
  },
  "language_info": {
   "codemirror_mode": {
    "name": "ipython",
    "version": 3
   },
   "file_extension": ".py",
   "mimetype": "text/x-python",
   "name": "python",
   "nbconvert_exporter": "python",
   "pygments_lexer": "ipython3",
   "version": "3.7.3"
  }
 },
 "nbformat": 4,
 "nbformat_minor": 2
}
