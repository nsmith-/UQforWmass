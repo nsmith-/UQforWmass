{
 "cells": [
  {
   "cell_type": "code",
   "execution_count": 1,
   "metadata": {},
   "outputs": [],
   "source": [
    "from collections import defaultdict\n",
    "\n",
    "import tensorflow as tf\n",
    "import tensorflow.keras as tfk\n",
    "import tensorflow_probability as tfp\n",
    "tfd = tfp.distributions\n",
    "tfb = tfp.bijectors\n",
    "\n",
    "import tqdm\n",
    "import numpy as np\n",
    "import pandas as pd\n",
    "\n",
    "%matplotlib inline\n",
    "import matplotlib.pyplot as plt"
   ]
  },
  {
   "cell_type": "code",
   "execution_count": 2,
   "metadata": {},
   "outputs": [],
   "source": [
    "mnist = tf.keras.datasets.mnist\n",
    "\n",
    "(x_train, y_train), (x_test, y_test) = mnist.load_data()\n",
    "x_train, x_test = x_train / 255.0, x_test / 255.0\n",
    "\n",
    "# uint8 is not popular\n",
    "y_train = y_train.astype('i4')\n",
    "y_test = y_test.astype('i4')\n",
    "\n",
    "# Add a channels dimension\n",
    "x_train = x_train[..., tf.newaxis].astype('f4')\n",
    "x_test = x_test[..., tf.newaxis].astype('f4')\n",
    "n_train = x_train.shape[0]"
   ]
  },
  {
   "cell_type": "code",
   "execution_count": 3,
   "metadata": {},
   "outputs": [],
   "source": [
    "latent_dim = 128\n",
    "\n",
    "encoder = tfk.Sequential([\n",
    "    tfk.layers.Reshape((28, 28, 1)),\n",
    "    tfk.layers.Convolution2D(filters=16, kernel_size=3, activation='relu'),\n",
    "    tfk.layers.MaxPool2D(),\n",
    "    tfk.layers.Flatten(),\n",
    "    tfk.layers.Dense(tfp.layers.IndependentNormal.params_size(latent_dim), activation='relu'),\n",
    "    tfp.layers.IndependentNormal(latent_dim),\n",
    "    tfp.layers.KLDivergenceAddLoss(tfd.MultivariateNormalDiag(loc=tf.zeros(latent_dim))),\n",
    "])\n",
    "\n",
    "latent_prior = tfd.MultivariateNormalDiag(loc=tf.zeros(latent_dim), scale_diag=tf.ones(latent_dim))\n",
    "\n",
    "decoder = tfk.Sequential([\n",
    "    tfk.layers.Dense(24*24*1, activation='relu'),\n",
    "    tfk.layers.Reshape((24, 24, 1)),\n",
    "    tfk.layers.Conv2DTranspose(filters=16, kernel_size=5, activation='relu'),\n",
    "    tfk.layers.Conv2DTranspose(filters=1, kernel_size=1, activation='sigmoid'),\n",
    "])"
   ]
  },
  {
   "cell_type": "code",
   "execution_count": 4,
   "metadata": {},
   "outputs": [],
   "source": [
    "optimizer = tfk.optimizers.Adam()\n",
    "\n",
    "train_loss = tfk.metrics.Mean(name='train_loss')\n",
    "test_loss = tfk.metrics.Mean(name='test_loss')\n",
    "\n",
    "BATCH_SIZE = 2**6\n",
    "SAMPLE_SIZE = 64\n",
    "\n",
    "train_ds = (tf.data.Dataset.from_tensor_slices((x_train, y_train))\n",
    "            .shuffle(10000)\n",
    "            .batch(BATCH_SIZE, drop_remainder=True)\n",
    "           )\n",
    "\n",
    "test_ds = (tf.data.Dataset.from_tensor_slices((x_test, y_test))\n",
    "           .batch(BATCH_SIZE, drop_remainder=True)\n",
    "          )"
   ]
  },
  {
   "cell_type": "code",
   "execution_count": 5,
   "metadata": {},
   "outputs": [],
   "source": [
    "@tf.function\n",
    "def train_step(images):\n",
    "    with tf.GradientTape() as tape:\n",
    "        latent = encoder(images)\n",
    "        activations = decoder(latent)\n",
    "        nll = tfk.metrics.binary_crossentropy(tf.reshape(images, (images.shape[0], -1)),\n",
    "                                              tf.reshape(activations, (activations.shape[0], -1))\n",
    "                                             )\n",
    "        kl = tf.reduce_sum(encoder.losses) / n_train\n",
    "        loss = tf.reduce_mean(nll) + kl\n",
    "\n",
    "    trainable = encoder.trainable_variables + decoder.trainable_variables\n",
    "    gradients = tape.gradient(loss, trainable)\n",
    "    optimizer.apply_gradients(zip(gradients, trainable))\n",
    "\n",
    "    train_loss(loss)"
   ]
  },
  {
   "cell_type": "code",
   "execution_count": 6,
   "metadata": {},
   "outputs": [],
   "source": [
    "@tf.function\n",
    "def test_step(images):\n",
    "    activations = decoder(encoder(images))\n",
    "    loss = tfk.metrics.binary_crossentropy(images, activations)\n",
    "\n",
    "    test_loss(loss)"
   ]
  },
  {
   "cell_type": "code",
   "execution_count": 7,
   "metadata": {},
   "outputs": [
    {
     "name": "stderr",
     "output_type": "stream",
     "text": [
      "  0%|          | 0/10 [00:00<?, ?epoch/s]WARNING: Logging before flag parsing goes to stderr.\n",
      "W1002 00:00:40.616669 140735523619712 deprecation.py:323] From /Users/ncsmith/miniconda3/envs/tfd/lib/python3.7/site-packages/tensorflow_core/python/ops/math_grad.py:1394: where (from tensorflow.python.ops.array_ops) is deprecated and will be removed in a future version.\n",
      "Instructions for updating:\n",
      "Use tf.where in 2.0, which has the same broadcast rule as np.where\n",
      "100%|██████████| 10/10 [05:01<00:00, 30.13s/epoch]\n"
     ]
    }
   ],
   "source": [
    "EPOCHS = 10\n",
    "history = defaultdict(list)\n",
    "\n",
    "for epoch in tqdm.trange(EPOCHS, unit='epoch'):\n",
    "    if epoch == 10:\n",
    "        optimizer.lr = 1e-4\n",
    "    for images, labels in train_ds:\n",
    "        train_step(images)\n",
    "\n",
    "    for test_images, test_labels in test_ds:\n",
    "        test_step(test_images)\n",
    "\n",
    "    history['train_loss'].append(float(train_loss.result()))\n",
    "    history['test_loss'].append(float(test_loss.result()))\n",
    "\n",
    "    # Reset the metrics for the next epoch\n",
    "    train_loss.reset_states()\n",
    "    test_loss.reset_states()\n",
    "    "
   ]
  },
  {
   "cell_type": "code",
   "execution_count": 8,
   "metadata": {},
   "outputs": [
    {
     "data": {
      "text/plain": [
       "<matplotlib.axes._subplots.AxesSubplot at 0x6364521d0>"
      ]
     },
     "execution_count": 8,
     "metadata": {},
     "output_type": "execute_result"
    },
    {
     "data": {
      "image/png": "[encoded data removed]",
      "text/plain": [
       "<Figure size 432x288 with 1 Axes>"
      ]
     },
     "metadata": {
      "needs_background": "light"
     },
     "output_type": "display_data"
    }
   ],
   "source": [
    "pd.DataFrame(history).plot()"
   ]
  },
  {
   "cell_type": "code",
   "execution_count": 15,
   "metadata": {},
   "outputs": [
    {
     "data": {
      "text/plain": [
       "<matplotlib.image.AxesImage at 0x6388e6e10>"
      ]
     },
     "execution_count": 15,
     "metadata": {},
     "output_type": "execute_result"
    },
    {
     "data": {
      "image/png": "[encoded data removed]",
      "text/plain": [
       "<Figure size 864x360 with 2 Axes>"
      ]
     },
     "metadata": {
      "needs_background": "light"
     },
     "output_type": "display_data"
    }
   ],
   "source": [
    "i = 16\n",
    "\n",
    "ex = x_test[i,...,0]\n",
    "lbl = y_test[i]\n",
    "\n",
    "fig, (ax_in, ax_dec) = plt.subplots(ncols=2, figsize=(12, 5))\n",
    "\n",
    "ax_in.set_title(\"Entry %d, label: %d\" % (i, lbl))\n",
    "ax_in.imshow(ex)\n",
    "\n",
    "latent = encoder(ex[None, ..., None])\n",
    "ax_dec.imshow(decoder(latent.sample())[0, ..., 0])"
   ]
  },
  {
   "cell_type": "code",
   "execution_count": 21,
   "metadata": {},
   "outputs": [
    {
     "data": {
      "text/plain": [
       "<tfp.distributions.Independent 'sequential_independent_normal_IndependentNormal_Independentsequential_independent_normal_IndependentNormal_Normal' batch_shape=[1] event_shape=[128] dtype=float32>"
      ]
     },
     "execution_count": 21,
     "metadata": {},
     "output_type": "execute_result"
    }
   ],
   "source": [
    "latent"
   ]
  },
  {
   "cell_type": "code",
   "execution_count": null,
   "metadata": {},
   "outputs": [],
   "source": []
  }
 ],
 "metadata": {
  "kernelspec": {
   "display_name": "Python 3",
   "language": "python",
   "name": "python3"
  },
  "language_info": {
   "codemirror_mode": {
    "name": "ipython",
    "version": 3
   },
   "file_extension": ".py",
   "mimetype": "text/x-python",
   "name": "python",
   "nbconvert_exporter": "python",
   "pygments_lexer": "ipython3",
   "version": "3.7.3"
  }
 },
 "nbformat": 4,
 "nbformat_minor": 2
}
