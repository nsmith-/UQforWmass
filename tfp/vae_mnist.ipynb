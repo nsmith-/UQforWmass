{
 "cells": [
  {
   "cell_type": "code",
   "execution_count": 1,
   "metadata": {},
   "outputs": [],
   "source": [
    "from collections import defaultdict\n",
    "\n",
    "import tensorflow as tf\n",
    "import tensorflow.keras as tfk\n",
    "import tensorflow_probability as tfp\n",
    "tfd = tfp.distributions\n",
    "tfb = tfp.bijectors\n",
    "\n",
    "import tqdm\n",
    "import numpy as np\n",
    "import pandas as pd\n",
    "\n",
    "%matplotlib inline\n",
    "import matplotlib.pyplot as plt"
   ]
  },
  {
   "cell_type": "code",
   "execution_count": 2,
   "metadata": {},
   "outputs": [],
   "source": [
    "mnist = tf.keras.datasets.mnist\n",
    "\n",
    "(x_train, y_train), (x_test, y_test) = mnist.load_data()\n",
    "x_train, x_test = x_train / 255.0, x_test / 255.0\n",
    "\n",
    "# uint8 is not popular\n",
    "y_train = y_train.astype('i4')\n",
    "y_test = y_test.astype('i4')\n",
    "\n",
    "# Add a channels dimension\n",
    "x_train = x_train[..., tf.newaxis].astype('f4')\n",
    "x_test = x_test[..., tf.newaxis].astype('f4')\n",
    "n_train = x_train.shape[0]"
   ]
  },
  {
   "cell_type": "code",
   "execution_count": 64,
   "metadata": {},
   "outputs": [],
   "source": [
    "class CVAELatent(tfk.Model):\n",
    "    def __init__(self, latent_dist_fn, n_params):\n",
    "        super(CVAELatent, self).__init__()\n",
    "        \n",
    "        self.latent_dist_fn = latent_dist_fn\n",
    "        self.latent_prior = self.latent_dist_fn()\n",
    "\n",
    "        self.encoder = tfk.Sequential([\n",
    "            tfk.layers.Input((28, 28, 1)),\n",
    "            tfk.layers.Convolution2D(filters=32, kernel_size=3, activation='relu'),\n",
    "            tfk.layers.Convolution2D(filters=32, kernel_size=3, activation='relu'),\n",
    "            tfk.layers.MaxPool2D(),\n",
    "            tfk.layers.Convolution2D(filters=32, kernel_size=3, activation='relu'),\n",
    "            tfk.layers.MaxPool2D(),\n",
    "            tfk.layers.Flatten(),\n",
    "            tfk.layers.Dense(n_params, activation='relu'),\n",
    "            tfp.layers.DistributionLambda(\n",
    "                make_distribution_fn=self.latent_dist_fn,\n",
    "                activity_regularizer=tfp.layers.KLDivergenceRegularizer(\n",
    "                    self.latent_prior,\n",
    "                    use_exact_kl=True,\n",
    "                    weight=None,\n",
    "                ),\n",
    "            ),\n",
    "        ])\n",
    "\n",
    "        self.decoder = tfk.Sequential([\n",
    "            tfk.layers.Input((26,)),\n",
    "            tfk.layers.Dense(12*12*6, activation='relu'),\n",
    "            tfk.layers.Reshape((12, 12, 6)),\n",
    "            tfk.layers.Conv2DTranspose(filters=32, kernel_size=3, strides=2, activation='relu'),\n",
    "            tfk.layers.Conv2DTranspose(filters=32, kernel_size=4, activation='relu'),\n",
    "            tfk.layers.Conv2DTranspose(filters=1, kernel_size=1, activation='sigmoid'),\n",
    "            tfp.layers.IndependentBernoulli((1,)),\n",
    "        ])\n",
    "    \n",
    "    def encode(self, inputs):\n",
    "        '''Encode\n",
    "        '''\n",
    "        return self.encoder(inputs)\n",
    "    \n",
    "    def decode(self, inputs):\n",
    "        '''Decode\n",
    "        '''\n",
    "        return self.decoder(inputs)\n",
    "    \n",
    "    def call(self, inputs):\n",
    "        out = self.encode(inputs)\n",
    "        out = self.decode(out)\n",
    "        return out"
   ]
  },
  {
   "cell_type": "code",
   "execution_count": 65,
   "metadata": {},
   "outputs": [
    {
     "name": "stdout",
     "output_type": "stream",
     "text": [
      "Model: \"sequential_32\"\n",
      "_________________________________________________________________\n",
      "Layer (type)                 Output Shape              Param #   \n",
      "=================================================================\n",
      "conv2d_36 (Conv2D)           (None, 26, 26, 32)        320       \n",
      "_________________________________________________________________\n",
      "conv2d_37 (Conv2D)           (None, 24, 24, 32)        9248      \n",
      "_________________________________________________________________\n",
      "max_pooling2d_32 (MaxPooling (None, 12, 12, 32)        0         \n",
      "_________________________________________________________________\n",
      "conv2d_38 (Conv2D)           (None, 10, 10, 32)        9248      \n",
      "_________________________________________________________________\n",
      "max_pooling2d_33 (MaxPooling (None, 5, 5, 32)          0         \n",
      "_________________________________________________________________\n",
      "flatten_16 (Flatten)         (None, 800)               0         \n",
      "_________________________________________________________________\n",
      "dense_32 (Dense)             (None, 52)                41652     \n",
      "_________________________________________________________________\n",
      "distribution_lambda_16 (Dist ((None, 26), (None, 26))  0         \n",
      "=================================================================\n",
      "Total params: 60,468\n",
      "Trainable params: 60,468\n",
      "Non-trainable params: 0\n",
      "_________________________________________________________________\n",
      "Model: \"sequential_33\"\n",
      "_________________________________________________________________\n",
      "Layer (type)                 Output Shape              Param #   \n",
      "=================================================================\n",
      "dense_33 (Dense)             (None, 864)               23328     \n",
      "_________________________________________________________________\n",
      "reshape_27 (Reshape)         (None, 12, 12, 6)         0         \n",
      "_________________________________________________________________\n",
      "conv2d_transpose_47 (Conv2DT (None, 25, 25, 32)        1760      \n",
      "_________________________________________________________________\n",
      "conv2d_transpose_48 (Conv2DT (None, 28, 28, 32)        16416     \n",
      "_________________________________________________________________\n",
      "conv2d_transpose_49 (Conv2DT (None, 28, 28, 1)         33        \n",
      "_________________________________________________________________\n",
      "independent_bernoulli_16 (In ((None, 28, 28, 1), (None 0         \n",
      "=================================================================\n",
      "Total params: 41,537\n",
      "Trainable params: 41,537\n",
      "Non-trainable params: 0\n",
      "_________________________________________________________________\n"
     ]
    }
   ],
   "source": [
    "def make_dist(inputs=None, *args, **kwargs):\n",
    "    if inputs is None:\n",
    "        beta1, beta0 = tf.ones(10), tf.ones(10) * 9\n",
    "        mean, var = tf.zeros(16), tf.ones(16)\n",
    "    else:\n",
    "        beta1, beta0, mean, var = tf.split(inputs, [10, 10, 16, 16], axis=-1)\n",
    "        # valid domain\n",
    "        beta1, beta0, var = tf.exp(beta1), tf.exp(beta0), tf.exp(var)\n",
    "    return tfd.Blockwise([\n",
    "        tfd.Independent(tfd.Beta(beta1, beta0), reinterpreted_batch_ndims=1),\n",
    "        tfd.MultivariateNormalDiag(loc=mean, scale_diag=var),\n",
    "    ])\n",
    "\n",
    "model = CVAELatent(make_dist, 10*2 + 16*2)\n",
    "model.encoder.summary()\n",
    "model.decoder.summary()"
   ]
  },
  {
   "cell_type": "code",
   "execution_count": 66,
   "metadata": {},
   "outputs": [
    {
     "data": {
      "text/plain": [
       "0.014689820195675218"
      ]
     },
     "execution_count": 66,
     "metadata": {},
     "output_type": "execute_result"
    }
   ],
   "source": [
    "def analytic_kl(u1, s1, u2, s2):\n",
    "    '''For two normal distributions'''\n",
    "    return np.log(s2/s1) + (s1**2 + (u1 - u2)**2)/(2*(s2**2)) - .5\n",
    "\n",
    "analytic_kl(.1, 1.1, 0, 1)"
   ]
  },
  {
   "cell_type": "code",
   "execution_count": 67,
   "metadata": {},
   "outputs": [],
   "source": [
    "optimizer = tfk.optimizers.Adam()\n",
    "\n",
    "train_loss = tfk.metrics.Mean(name='train_loss')\n",
    "test_loss = tfk.metrics.Mean(name='test_loss')\n",
    "\n",
    "BATCH_SIZE = 100\n",
    "\n",
    "train_ds = (tf.data.Dataset.from_tensor_slices((x_train, y_train))\n",
    "            .shuffle(10000)\n",
    "            .batch(BATCH_SIZE, drop_remainder=True)\n",
    "           )\n",
    "\n",
    "test_ds = (tf.data.Dataset.from_tensor_slices((x_test, y_test))\n",
    "           .batch(BATCH_SIZE, drop_remainder=True)\n",
    "          )"
   ]
  },
  {
   "cell_type": "code",
   "execution_count": 68,
   "metadata": {},
   "outputs": [],
   "source": [
    "@tf.function\n",
    "def train_step(images):\n",
    "    with tf.GradientTape() as tape:\n",
    "        output = model.call(images)\n",
    "        nll = - output.log_prob(images)\n",
    "        # Factor of 2: tensorflow/probability#599\n",
    "        kl = tf.reduce_sum(model.losses) * BATCH_SIZE / n_train / 2.\n",
    "        loss = tf.reduce_mean(nll) + kl\n",
    "\n",
    "    trainable = model.trainable_variables\n",
    "    gradients = tape.gradient(loss, trainable)\n",
    "    optimizer.apply_gradients(zip(gradients, trainable))\n",
    "\n",
    "    train_loss(loss)\n",
    "    return loss"
   ]
  },
  {
   "cell_type": "code",
   "execution_count": 69,
   "metadata": {},
   "outputs": [],
   "source": [
    "@tf.function\n",
    "def test_step(images):\n",
    "    output = model.call(images)\n",
    "    loss = tf.reduce_mean(- output.log_prob(images))\n",
    "\n",
    "    test_loss(loss)\n",
    "    return loss"
   ]
  },
  {
   "cell_type": "code",
   "execution_count": 70,
   "metadata": {},
   "outputs": [
    {
     "name": "stderr",
     "output_type": "stream",
     "text": [
      "100%|██████████| 3/3 [04:32<00:00, 90.80s/epoch]\n"
     ]
    }
   ],
   "source": [
    "EPOCHS = 3\n",
    "# history = defaultdict(list)\n",
    "\n",
    "for epoch in tqdm.trange(EPOCHS, unit='epoch'):\n",
    "    optimizer.lr = 1e-2\n",
    "    for images, labels in train_ds:\n",
    "        train_step(images)\n",
    "\n",
    "    for test_images, test_labels in test_ds:\n",
    "        test_step(test_images)\n",
    "\n",
    "    history['train_loss'].append(float(train_loss.result()))\n",
    "    history['test_loss'].append(float(test_loss.result()))\n",
    "\n",
    "    # Reset the metrics for the next epoch\n",
    "    train_loss.reset_states()\n",
    "    test_loss.reset_states()\n",
    "    "
   ]
  },
  {
   "cell_type": "code",
   "execution_count": 71,
   "metadata": {},
   "outputs": [
    {
     "data": {
      "text/plain": [
       "<matplotlib.axes._subplots.AxesSubplot at 0x13b3a9ba8>"
      ]
     },
     "execution_count": 71,
     "metadata": {},
     "output_type": "execute_result"
    },
    {
     "data": {
      "image/png": "[encoded data removed]",
      "text/plain": [
       "<Figure size 432x288 with 1 Axes>"
      ]
     },
     "metadata": {
      "needs_background": "light"
     },
     "output_type": "display_data"
    }
   ],
   "source": [
    "pd.DataFrame(history)[:].plot()"
   ]
  },
  {
   "cell_type": "code",
   "execution_count": 72,
   "metadata": {},
   "outputs": [
    {
     "data": {
      "image/png": "[encoded data removed]",
      "text/plain": [
       "<Figure size 864x864 with 4 Axes>"
      ]
     },
     "metadata": {
      "needs_background": "light"
     },
     "output_type": "display_data"
    }
   ],
   "source": [
    "i = 36\n",
    "\n",
    "ex = x_test[i,...,0]\n",
    "lbl = y_test[i]\n",
    "\n",
    "fig, axes = plt.subplots(ncols=2, nrows=2, figsize=(12, 12))\n",
    "\n",
    "axes[0][0].set_title(\"Entry %d, label: %d\" % (i, lbl))\n",
    "axes[0][0].imshow(ex)\n",
    "\n",
    "latent = model.encode(ex[None, ..., None])\n",
    "\n",
    "for ax in axes.flatten()[1:]:\n",
    "    ax.set_title('Sample')\n",
    "    ax.imshow(model.decode(latent.sample()).mean()[0, ..., 0])"
   ]
  },
  {
   "cell_type": "code",
   "execution_count": 82,
   "metadata": {},
   "outputs": [
    {
     "data": {
      "text/plain": [
       "<matplotlib.legend.Legend at 0x141fc5f28>"
      ]
     },
     "execution_count": 82,
     "metadata": {},
     "output_type": "execute_result"
    },
    {
     "data": {
      "image/png": "[encoded data removed]",
      "text/plain": [
       "<Figure size 432x288 with 1 Axes>"
      ]
     },
     "metadata": {
      "needs_background": "light"
     },
     "output_type": "display_data"
    }
   ],
   "source": [
    "cut = y_test == 1\n",
    "latent = model.encode(x_test[cut]).mean()\n",
    "mlatent = latent.numpy()[:, :10]\n",
    "vl1 = plt.violinplot(mlatent, positions=np.arange(10) + .9)\n",
    "\n",
    "cut = y_test == 4\n",
    "latent = model.encode(x_test[cut]).mean()\n",
    "mlatent = latent.numpy()[:, :10]\n",
    "vl4 = plt.violinplot(mlatent, positions=np.arange(10) + 1.1)\n",
    "\n",
    "plt.legend([vl1['cbars'], vl4['cbars']], ['1', '4'], title='Label class')"
   ]
  },
  {
   "cell_type": "code",
   "execution_count": null,
   "metadata": {},
   "outputs": [],
   "source": []
  }
 ],
 "metadata": {
  "kernelspec": {
   "display_name": "Python 3",
   "language": "python",
   "name": "python3"
  },
  "language_info": {
   "codemirror_mode": {
    "name": "ipython",
    "version": 3
   },
   "file_extension": ".py",
   "mimetype": "text/x-python",
   "name": "python",
   "nbconvert_exporter": "python",
   "pygments_lexer": "ipython3",
   "version": "3.7.3"
  }
 },
 "nbformat": 4,
 "nbformat_minor": 2
}
