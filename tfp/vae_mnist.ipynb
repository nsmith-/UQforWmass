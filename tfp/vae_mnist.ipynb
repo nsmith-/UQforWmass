{
 "cells": [
  {
   "cell_type": "code",
   "execution_count": 1,
   "metadata": {},
   "outputs": [],
   "source": [
    "from collections import defaultdict\n",
    "from functools import partial\n",
    "\n",
    "import tensorflow as tf\n",
    "import tensorflow.keras as tfk\n",
    "import tensorflow_probability as tfp\n",
    "tfd = tfp.distributions\n",
    "tfb = tfp.bijectors\n",
    "\n",
    "import tqdm.auto as tqdm\n",
    "import numpy as np\n",
    "import pandas as pd\n",
    "\n",
    "%matplotlib inline\n",
    "import matplotlib.pyplot as plt"
   ]
  },
  {
   "cell_type": "code",
   "execution_count": 2,
   "metadata": {},
   "outputs": [
    {
     "data": {
      "text/plain": [
       "[PhysicalDevice(name='/physical_device:CPU:0', device_type='CPU'),\n",
       " PhysicalDevice(name='/physical_device:XLA_CPU:0', device_type='XLA_CPU'),\n",
       " PhysicalDevice(name='/physical_device:XLA_GPU:0', device_type='XLA_GPU'),\n",
       " PhysicalDevice(name='/physical_device:GPU:0', device_type='GPU')]"
      ]
     },
     "execution_count": 2,
     "metadata": {},
     "output_type": "execute_result"
    }
   ],
   "source": [
    "tf.config.experimental.list_physical_devices()"
   ]
  },
  {
   "cell_type": "code",
   "execution_count": 3,
   "metadata": {},
   "outputs": [],
   "source": [
    "mnist = tf.keras.datasets.mnist\n",
    "\n",
    "(x_train, y_train), (x_test, y_test) = mnist.load_data()\n",
    "x_train, x_test = x_train / 255.0, x_test / 255.0\n",
    "\n",
    "# uint8 is not popular\n",
    "y_train = y_train.astype('i4')\n",
    "y_test = y_test.astype('i4')\n",
    "\n",
    "# Add a channels dimension\n",
    "x_train = x_train[..., tf.newaxis].astype('f4')\n",
    "x_test = x_test[..., tf.newaxis].astype('f4')\n",
    "n_train = x_train.shape[0]"
   ]
  },
  {
   "cell_type": "code",
   "execution_count": 4,
   "metadata": {},
   "outputs": [],
   "source": [
    "class CVAELatent(tfk.Model):\n",
    "    def __init__(self, latent_dist_fn, n_params):\n",
    "        super(CVAELatent, self).__init__()\n",
    "        \n",
    "        self.latent_dist_fn = latent_dist_fn\n",
    "        self.latent_prior = self.latent_dist_fn()\n",
    "\n",
    "        self.encoder = tfk.Sequential([\n",
    "            tfk.layers.Input((28, 28, 1)),\n",
    "            tfk.layers.Convolution2D(filters=32, kernel_size=3, activation='relu'),\n",
    "            tfk.layers.Convolution2D(filters=32, kernel_size=3, activation='relu'),\n",
    "            tfk.layers.MaxPool2D(),\n",
    "            tfk.layers.Convolution2D(filters=32, kernel_size=3, activation='relu'),\n",
    "            tfk.layers.MaxPool2D(),\n",
    "            tfk.layers.Flatten(),\n",
    "            tfk.layers.Dense(n_params),\n",
    "            tfp.layers.DistributionLambda(\n",
    "                make_distribution_fn=self.latent_dist_fn,\n",
    "            ),\n",
    "        ])\n",
    "\n",
    "        self.decoder = tfk.Sequential([\n",
    "            tfk.layers.Input(self.encoder.layers[-1].output_shape[0][1:]),\n",
    "            tfk.layers.Dense(12*12*6, activation='relu'),\n",
    "            tfk.layers.Reshape((12, 12, 6)),\n",
    "            tfk.layers.Conv2DTranspose(filters=64, kernel_size=3, strides=2, activation='relu'),\n",
    "            tfk.layers.Conv2DTranspose(filters=32, kernel_size=4, activation='relu'),\n",
    "            tfk.layers.Conv2DTranspose(filters=1, kernel_size=1),\n",
    "        ])\n",
    "    \n",
    "    def encode(self, inputs):\n",
    "        '''Encode\n",
    "        '''\n",
    "        dist = self.encoder(inputs)\n",
    "        return dist\n",
    "    \n",
    "    def decode(self, inputs, logit=False):\n",
    "        '''Decode\n",
    "        '''\n",
    "        out = self.decoder(inputs)\n",
    "        if not logit:\n",
    "            out = tf.sigmoid(out)\n",
    "        return out\n",
    "    \n",
    "    def call(self, inputs, logit=False):\n",
    "        out = self.encode(inputs)\n",
    "        out = self.decode(out, logit=logit)\n",
    "        return out"
   ]
  },
  {
   "cell_type": "code",
   "execution_count": 95,
   "metadata": {},
   "outputs": [
    {
     "name": "stdout",
     "output_type": "stream",
     "text": [
      "Model: \"sequential_8\"\n",
      "_________________________________________________________________\n",
      "Layer (type)                 Output Shape              Param #   \n",
      "=================================================================\n",
      "conv2d_12 (Conv2D)           (None, 26, 26, 32)        320       \n",
      "_________________________________________________________________\n",
      "conv2d_13 (Conv2D)           (None, 24, 24, 32)        9248      \n",
      "_________________________________________________________________\n",
      "max_pooling2d_8 (MaxPooling2 (None, 12, 12, 32)        0         \n",
      "_________________________________________________________________\n",
      "conv2d_14 (Conv2D)           (None, 10, 10, 32)        9248      \n",
      "_________________________________________________________________\n",
      "max_pooling2d_9 (MaxPooling2 (None, 5, 5, 32)          0         \n",
      "_________________________________________________________________\n",
      "flatten_4 (Flatten)          (None, 800)               0         \n",
      "_________________________________________________________________\n",
      "dense_8 (Dense)              (None, 26)                20826     \n",
      "_________________________________________________________________\n",
      "distribution_lambda_4 (Distr ((None, 18), (None, 18))  0         \n",
      "=================================================================\n",
      "Total params: 39,642\n",
      "Trainable params: 39,642\n",
      "Non-trainable params: 0\n",
      "_________________________________________________________________\n",
      "Model: \"sequential_9\"\n",
      "_________________________________________________________________\n",
      "Layer (type)                 Output Shape              Param #   \n",
      "=================================================================\n",
      "dense_9 (Dense)              (None, 864)               16416     \n",
      "_________________________________________________________________\n",
      "reshape_4 (Reshape)          (None, 12, 12, 6)         0         \n",
      "_________________________________________________________________\n",
      "conv2d_transpose_12 (Conv2DT (None, 25, 25, 64)        3520      \n",
      "_________________________________________________________________\n",
      "conv2d_transpose_13 (Conv2DT (None, 28, 28, 32)        32800     \n",
      "_________________________________________________________________\n",
      "conv2d_transpose_14 (Conv2DT (None, 28, 28, 1)         33        \n",
      "=================================================================\n",
      "Total params: 52,769\n",
      "Trainable params: 52,769\n",
      "Non-trainable params: 0\n",
      "_________________________________________________________________\n"
     ]
    }
   ],
   "source": [
    "def make_dist(inputs=None, *args, **kwargs):\n",
    "    ncat = 10\n",
    "    ngaus = 8\n",
    "    if inputs is None:\n",
    "        catp = tf.ones(ncat) / ncat\n",
    "        mean, var = tf.zeros(ngaus), tf.ones(ngaus)\n",
    "    else:\n",
    "        catp, mean, var = tf.split(inputs, [ncat, ngaus, ngaus], axis=-1)\n",
    "        # valid domain\n",
    "        catp, var = tf.nn.softmax(catp), tf.math.softplus(var)\n",
    "    return tfd.Blockwise([\n",
    "        tfd.OneHotCategorical(probs=catp, dtype=tf.float32),\n",
    "        tfd.MultivariateNormalDiag(loc=mean, scale_diag=var),\n",
    "    ])\n",
    "\n",
    "model = CVAELatent(make_dist, 10 + 8*2)\n",
    "model.encoder.summary()\n",
    "model.decoder.summary()"
   ]
  },
  {
   "cell_type": "code",
   "execution_count": 96,
   "metadata": {},
   "outputs": [
    {
     "data": {
      "text/plain": [
       "0.014689820195675218"
      ]
     },
     "execution_count": 96,
     "metadata": {},
     "output_type": "execute_result"
    }
   ],
   "source": [
    "def analytic_kl(u1, s1, u2, s2):\n",
    "    '''For two normal distributions'''\n",
    "    return np.log(s2/s1) + (s1**2 + (u1 - u2)**2)/(2*(s2**2)) - .5\n",
    "\n",
    "analytic_kl(.1, 1.1, 0, 1)"
   ]
  },
  {
   "cell_type": "code",
   "execution_count": 97,
   "metadata": {},
   "outputs": [],
   "source": [
    "optimizer = tfk.optimizers.Adam()\n",
    "\n",
    "train_loss = tfk.metrics.Mean(name='train_loss')\n",
    "test_loss = tfk.metrics.Mean(name='test_loss')\n",
    "\n",
    "BATCH_SIZE = 100\n",
    "\n",
    "train_ds = (tf.data.Dataset.from_tensor_slices((x_train, y_train))\n",
    "            .shuffle(10000)\n",
    "            .batch(BATCH_SIZE, drop_remainder=True)\n",
    "           )\n",
    "\n",
    "test_ds = (tf.data.Dataset.from_tensor_slices((x_test, y_test))\n",
    "           .batch(BATCH_SIZE, drop_remainder=True)\n",
    "          )"
   ]
  },
  {
   "cell_type": "code",
   "execution_count": 98,
   "metadata": {},
   "outputs": [],
   "source": [
    "@tf.function\n",
    "def sampling_kl(dist_a, dist_b):\n",
    "    samples = dist_a.sample(10)\n",
    "    logp_a = tf.reduce_mean(dist_a.log_prob(samples), axis=0)\n",
    "    logp_b = tf.reduce_mean(dist_b.log_prob(samples), axis=0)\n",
    "    return logp_a - logp_b"
   ]
  },
  {
   "cell_type": "code",
   "execution_count": 99,
   "metadata": {},
   "outputs": [],
   "source": [
    "@tf.function\n",
    "def train_step(images):\n",
    "    with tf.GradientTape() as tape:\n",
    "        latent = model.encode(images)\n",
    "        kl = tf.reduce_mean(tfd.kl_divergence(latent, model.latent_prior))\n",
    "        # kl = tf.reduce_mean(sampling_kl(latent, model.latent_prior))\n",
    "        \n",
    "        output = model.decode(latent, logit=True)\n",
    "        dist = tf.nn.sigmoid_cross_entropy_with_logits(labels=images, logits=output)\n",
    "        nll = tf.reduce_mean(tf.reduce_sum(dist, axis=[1, 2, 3]))\n",
    "        \n",
    "        loss = nll + kl\n",
    "\n",
    "    trainable = model.trainable_variables\n",
    "    gradients = tape.gradient(loss, trainable)\n",
    "    optimizer.apply_gradients(zip(gradients, trainable))\n",
    "\n",
    "    train_loss(loss)\n",
    "    # return nll, kl"
   ]
  },
  {
   "cell_type": "code",
   "execution_count": 100,
   "metadata": {},
   "outputs": [],
   "source": [
    "@tf.function\n",
    "def test_step(images):\n",
    "    output = model.call(images, logit=True)\n",
    "    dist = tf.nn.sigmoid_cross_entropy_with_logits(labels=images, logits=output)\n",
    "    nll = tf.reduce_mean(tf.reduce_sum(dist, axis=[1, 2, 3]))\n",
    "\n",
    "    test_loss(nll)"
   ]
  },
  {
   "cell_type": "code",
   "execution_count": 101,
   "metadata": {},
   "outputs": [
    {
     "data": {
      "application/vnd.jupyter.widget-view+json": {
       "model_id": "bfdce825eddf4385ab4065bc2dd9602b",
       "version_major": 2,
       "version_minor": 0
      },
      "text/plain": [
       "HBox(children=(IntProgress(value=0), HTML(value='')))"
      ]
     },
     "metadata": {},
     "output_type": "display_data"
    },
    {
     "name": "stdout",
     "output_type": "stream",
     "text": [
      "\n"
     ]
    }
   ],
   "source": [
    "EPOCHS = 100\n",
    "\n",
    "history = defaultdict(list)\n",
    "\n",
    "with tf.device('GPU:0'):\n",
    "    for epoch in tqdm.trange(EPOCHS, unit='epoch'):\n",
    "        optimizer.lr = 1e-3\n",
    "        for images, labels in train_ds:\n",
    "            train_step(images)\n",
    "\n",
    "        for test_images, test_labels in test_ds:\n",
    "            test_step(test_images)\n",
    "\n",
    "        history['train_loss'].append(float(train_loss.result()))\n",
    "        history['test_loss'].append(float(test_loss.result()))\n",
    "\n",
    "        # Reset the metrics for the next epoch\n",
    "        train_loss.reset_states()\n",
    "        test_loss.reset_states()\n",
    "    "
   ]
  },
  {
   "cell_type": "code",
   "execution_count": 102,
   "metadata": {},
   "outputs": [
    {
     "data": {
      "text/plain": [
       "<matplotlib.axes._subplots.AxesSubplot at 0x7ff660b59780>"
      ]
     },
     "execution_count": 102,
     "metadata": {},
     "output_type": "execute_result"
    },
    {
     "data": {
      "image/png": "[encoded data removed]",
      "text/plain": [
       "<Figure size 432x288 with 1 Axes>"
      ]
     },
     "metadata": {
      "needs_background": "light"
     },
     "output_type": "display_data"
    }
   ],
   "source": [
    "pd.DataFrame(history)[:].plot()"
   ]
  },
  {
   "cell_type": "code",
   "execution_count": 103,
   "metadata": {},
   "outputs": [
    {
     "data": {
      "image/png": "[encoded data removed]",
      "text/plain": [
       "<Figure size 864x864 with 4 Axes>"
      ]
     },
     "metadata": {
      "needs_background": "light"
     },
     "output_type": "display_data"
    }
   ],
   "source": [
    "i = 30\n",
    "\n",
    "ex = x_test[i,...,0]\n",
    "lbl = y_test[i]\n",
    "\n",
    "fig, axes = plt.subplots(ncols=2, nrows=2, figsize=(12, 12))\n",
    "\n",
    "axes[0][0].set_title(\"Entry %d, label: %d\" % (i, lbl))\n",
    "axes[0][0].imshow(ex)\n",
    "\n",
    "latent = model.encode(ex[None, ..., None])\n",
    "\n",
    "axes[0][1].set_title(\"Mean\")\n",
    "axes[0][1].imshow(model.decode(latent.mean())[0, ..., 0])\n",
    "\n",
    "for ax in axes.flatten()[2:]:\n",
    "    ax.set_title('Sample')\n",
    "    ax.imshow(model.decode(latent.sample())[0, ..., 0])"
   ]
  },
  {
   "cell_type": "code",
   "execution_count": 104,
   "metadata": {},
   "outputs": [
    {
     "data": {
      "text/plain": [
       "<matplotlib.legend.Legend at 0x7ff570117908>"
      ]
     },
     "execution_count": 104,
     "metadata": {},
     "output_type": "execute_result"
    },
    {
     "data": {
      "image/png": "[encoded data removed]",
      "text/plain": [
       "<Figure size 432x288 with 1 Axes>"
      ]
     },
     "metadata": {
      "needs_background": "light"
     },
     "output_type": "display_data"
    }
   ],
   "source": [
    "lbl1, lbl2 = 5, 7\n",
    "\n",
    "cut = y_test == lbl1\n",
    "latent = model.encode(x_test[cut]).mean()\n",
    "mlatent = latent.numpy()\n",
    "vl1 = plt.violinplot(mlatent, positions=np.arange(mlatent.shape[1]) + .9)\n",
    "\n",
    "cut = y_test == lbl2\n",
    "latent = model.encode(x_test[cut]).mean()\n",
    "mlatent = latent.numpy()\n",
    "vl2 = plt.violinplot(mlatent, positions=np.arange(mlatent.shape[1]) + 1.1)\n",
    "\n",
    "plt.legend([vl1['cbars'], vl2['cbars']], [str(lbl1), str(lbl2)], title='Label class')"
   ]
  },
  {
   "cell_type": "code",
   "execution_count": 105,
   "metadata": {},
   "outputs": [],
   "source": [
    "latent = model.encode(x_test[1:2])\n",
    "# model.latent_prior.prob(latent.sample())"
   ]
  },
  {
   "cell_type": "code",
   "execution_count": 106,
   "metadata": {},
   "outputs": [
    {
     "data": {
      "text/plain": [
       "{'loc': <tf.Tensor: id=169603, shape=(1, 8), dtype=float32, numpy=\n",
       " array([[ 0.4050203 , -1.042129  ,  0.5757162 , -0.85364294, -1.780325  ,\n",
       "          0.92013013,  2.4741802 ,  0.8719024 ]], dtype=float32)>,\n",
       " 'scale_diag': <tf.Tensor: id=169606, shape=(1, 8), dtype=float32, numpy=\n",
       " array([[0.08313776, 0.15331212, 0.23044458, 0.08924359, 0.13749604,\n",
       "         0.10901713, 0.08961194, 0.11480612]], dtype=float32)>,\n",
       " 'scale_identity_multiplier': None,\n",
       " 'validate_args': False,\n",
       " 'allow_nan_stats': True,\n",
       " 'name': 'MultivariateNormalDiag'}"
      ]
     },
     "execution_count": 106,
     "metadata": {},
     "output_type": "execute_result"
    }
   ],
   "source": [
    "latent.parameters['distribution'].parameters['distributions'][1].parameters"
   ]
  },
  {
   "cell_type": "code",
   "execution_count": 108,
   "metadata": {},
   "outputs": [
    {
     "data": {
      "text/plain": [
       "{'logits': None,\n",
       " 'probs': <tf.Tensor: id=169605, shape=(1, 10), dtype=float32, numpy=\n",
       " array([[0.09991363, 0.10000531, 0.10019053, 0.1000651 , 0.1001432 ,\n",
       "         0.09998892, 0.09983488, 0.10000116, 0.09993248, 0.09992473]],\n",
       "       dtype=float32)>,\n",
       " 'dtype': tf.float32,\n",
       " 'validate_args': False,\n",
       " 'allow_nan_stats': True,\n",
       " 'name': 'OneHotCategorical'}"
      ]
     },
     "execution_count": 108,
     "metadata": {},
     "output_type": "execute_result"
    }
   ],
   "source": [
    "latent.parameters['distribution'].parameters['distributions'][0].parameters"
   ]
  },
  {
   "cell_type": "code",
   "execution_count": 109,
   "metadata": {},
   "outputs": [
    {
     "data": {
      "text/plain": [
       "<tf.Tensor: id=169696, shape=(1, 18), dtype=float32, numpy=\n",
       "array([[ 0.09991363,  0.10000531,  0.10019053,  0.1000651 ,  0.1001432 ,\n",
       "         0.09998892,  0.09983488,  0.10000116,  0.09993248,  0.09992473,\n",
       "         0.4050203 , -1.042129  ,  0.5757162 , -0.85364294, -1.780325  ,\n",
       "         0.92013013,  2.4741802 ,  0.8719024 ]], dtype=float32)>"
      ]
     },
     "execution_count": 109,
     "metadata": {},
     "output_type": "execute_result"
    }
   ],
   "source": [
    "latent.mean()"
   ]
  },
  {
   "cell_type": "code",
   "execution_count": null,
   "metadata": {},
   "outputs": [],
   "source": []
  }
 ],
 "metadata": {
  "kernelspec": {
   "display_name": "Python 3",
   "language": "python",
   "name": "python3"
  },
  "language_info": {
   "codemirror_mode": {
    "name": "ipython",
    "version": 3
   },
   "file_extension": ".py",
   "mimetype": "text/x-python",
   "name": "python",
   "nbconvert_exporter": "python",
   "pygments_lexer": "ipython3",
   "version": "3.7.3"
  }
 },
 "nbformat": 4,
 "nbformat_minor": 2
}
