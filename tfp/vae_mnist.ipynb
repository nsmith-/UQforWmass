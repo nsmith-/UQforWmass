{
 "cells": [
  {
   "cell_type": "code",
   "execution_count": 1,
   "metadata": {},
   "outputs": [],
   "source": [
    "from collections import defaultdict\n",
    "\n",
    "import tensorflow as tf\n",
    "import tensorflow.keras as tfk\n",
    "import tensorflow_probability as tfp\n",
    "tfd = tfp.distributions\n",
    "tfb = tfp.bijectors\n",
    "\n",
    "import tqdm.auto as tqdm\n",
    "import numpy as np\n",
    "import pandas as pd\n",
    "\n",
    "%matplotlib inline\n",
    "import matplotlib.pyplot as plt"
   ]
  },
  {
   "cell_type": "code",
   "execution_count": 2,
   "metadata": {},
   "outputs": [
    {
     "data": {
      "text/plain": [
       "[PhysicalDevice(name='/physical_device:CPU:0', device_type='CPU'),\n",
       " PhysicalDevice(name='/physical_device:XLA_CPU:0', device_type='XLA_CPU'),\n",
       " PhysicalDevice(name='/physical_device:XLA_GPU:0', device_type='XLA_GPU'),\n",
       " PhysicalDevice(name='/physical_device:GPU:0', device_type='GPU')]"
      ]
     },
     "execution_count": 2,
     "metadata": {},
     "output_type": "execute_result"
    }
   ],
   "source": [
    "tf.config.experimental.list_physical_devices()"
   ]
  },
  {
   "cell_type": "code",
   "execution_count": 3,
   "metadata": {},
   "outputs": [],
   "source": [
    "mnist = tf.keras.datasets.mnist\n",
    "\n",
    "(x_train, y_train), (x_test, y_test) = mnist.load_data()\n",
    "x_train, x_test = x_train / 255.0, x_test / 255.0\n",
    "\n",
    "# uint8 is not popular\n",
    "y_train = y_train.astype('i4')\n",
    "y_test = y_test.astype('i4')\n",
    "\n",
    "# Add a channels dimension\n",
    "x_train = x_train[..., tf.newaxis].astype('f4')\n",
    "x_test = x_test[..., tf.newaxis].astype('f4')\n",
    "n_train = x_train.shape[0]"
   ]
  },
  {
   "cell_type": "code",
   "execution_count": 4,
   "metadata": {},
   "outputs": [],
   "source": [
    "class CVAELatent(tfk.Model):\n",
    "    def __init__(self, latent_dist_fn, n_params):\n",
    "        super(CVAELatent, self).__init__()\n",
    "        \n",
    "        self.latent_dist_fn = latent_dist_fn\n",
    "        self.latent_prior = self.latent_dist_fn()\n",
    "\n",
    "        self.encoder = tfk.Sequential([\n",
    "            tfk.layers.Input((28, 28, 1)),\n",
    "            tfk.layers.Convolution2D(filters=32, kernel_size=3, activation='relu'),\n",
    "            tfk.layers.Convolution2D(filters=32, kernel_size=3, activation='relu'),\n",
    "            tfk.layers.MaxPool2D(),\n",
    "            tfk.layers.Convolution2D(filters=32, kernel_size=3, activation='relu'),\n",
    "            tfk.layers.MaxPool2D(),\n",
    "            tfk.layers.Flatten(),\n",
    "            tfk.layers.Dense(n_params),\n",
    "            tfp.layers.DistributionLambda(\n",
    "                make_distribution_fn=self.latent_dist_fn,\n",
    "            ),\n",
    "        ])\n",
    "\n",
    "        self.decoder = tfk.Sequential([\n",
    "            tfk.layers.Input(self.encoder.layers[-1].output_shape[0][1:]),\n",
    "            tfk.layers.Dense(12*12*6, activation='relu'),\n",
    "            tfk.layers.Reshape((12, 12, 6)),\n",
    "            tfk.layers.Conv2DTranspose(filters=64, kernel_size=3, strides=2, activation='relu'),\n",
    "            tfk.layers.Conv2DTranspose(filters=32, kernel_size=4, activation='relu'),\n",
    "            tfk.layers.Conv2DTranspose(filters=1, kernel_size=1),\n",
    "        ])\n",
    "    \n",
    "    def encode(self, inputs):\n",
    "        '''Encode\n",
    "        '''\n",
    "        dist = self.encoder(inputs)\n",
    "        return dist\n",
    "    \n",
    "    def decode(self, inputs, logit=False):\n",
    "        '''Decode\n",
    "        '''\n",
    "        out = self.decoder(inputs)\n",
    "        if not logit:\n",
    "            out = tf.sigmoid(out)\n",
    "        return out\n",
    "    \n",
    "    def call(self, inputs, logit=False):\n",
    "        out = self.encode(inputs)\n",
    "        out = self.decode(out, logit=logit)\n",
    "        return out"
   ]
  },
  {
   "cell_type": "code",
   "execution_count": 5,
   "metadata": {},
   "outputs": [
    {
     "name": "stdout",
     "output_type": "stream",
     "text": [
      "Model: \"sequential\"\n",
      "_________________________________________________________________\n",
      "Layer (type)                 Output Shape              Param #   \n",
      "=================================================================\n",
      "conv2d (Conv2D)              (None, 26, 26, 32)        320       \n",
      "_________________________________________________________________\n",
      "conv2d_1 (Conv2D)            (None, 24, 24, 32)        9248      \n",
      "_________________________________________________________________\n",
      "max_pooling2d (MaxPooling2D) (None, 12, 12, 32)        0         \n",
      "_________________________________________________________________\n",
      "conv2d_2 (Conv2D)            (None, 10, 10, 32)        9248      \n",
      "_________________________________________________________________\n",
      "max_pooling2d_1 (MaxPooling2 (None, 5, 5, 32)          0         \n",
      "_________________________________________________________________\n",
      "flatten (Flatten)            (None, 800)               0         \n",
      "_________________________________________________________________\n",
      "dense (Dense)                (None, 18)                14418     \n",
      "_________________________________________________________________\n",
      "distribution_lambda (Distrib ((None, 14), (None, 14))  0         \n",
      "=================================================================\n",
      "Total params: 33,234\n",
      "Trainable params: 33,234\n",
      "Non-trainable params: 0\n",
      "_________________________________________________________________\n",
      "Model: \"sequential_1\"\n",
      "_________________________________________________________________\n",
      "Layer (type)                 Output Shape              Param #   \n",
      "=================================================================\n",
      "dense_1 (Dense)              (None, 864)               12960     \n",
      "_________________________________________________________________\n",
      "reshape (Reshape)            (None, 12, 12, 6)         0         \n",
      "_________________________________________________________________\n",
      "conv2d_transpose (Conv2DTran (None, 25, 25, 64)        3520      \n",
      "_________________________________________________________________\n",
      "conv2d_transpose_1 (Conv2DTr (None, 28, 28, 32)        32800     \n",
      "_________________________________________________________________\n",
      "conv2d_transpose_2 (Conv2DTr (None, 28, 28, 1)         33        \n",
      "=================================================================\n",
      "Total params: 49,313\n",
      "Trainable params: 49,313\n",
      "Non-trainable params: 0\n",
      "_________________________________________________________________\n"
     ]
    }
   ],
   "source": [
    "def make_dist(inputs=None, *args, **kwargs):\n",
    "    nbern = 10\n",
    "    ngaus = 4\n",
    "    if inputs is None:\n",
    "        bernp = tf.ones(nbern) * 0.1\n",
    "        mean, var = tf.zeros(ngaus), tf.ones(ngaus)\n",
    "    else:\n",
    "        bernp, mean, var = tf.split(inputs, [nbern, ngaus, ngaus], axis=-1)\n",
    "        # valid domain\n",
    "        bernp, var = tf.nn.sigmoid(bernp), tf.math.softplus(var)\n",
    "    return tfd.Blockwise([\n",
    "        tfd.Independent(tfd.Bernoulli(probs=bernp, dtype=tf.float32), reinterpreted_batch_ndims=1),\n",
    "        tfd.MultivariateNormalDiag(loc=mean, scale_diag=var),\n",
    "    ])\n",
    "\n",
    "model = CVAELatent(make_dist, 10 + 4*2)\n",
    "model.encoder.summary()\n",
    "model.decoder.summary()"
   ]
  },
  {
   "cell_type": "code",
   "execution_count": 6,
   "metadata": {},
   "outputs": [
    {
     "data": {
      "text/plain": [
       "0.014689820195675218"
      ]
     },
     "execution_count": 6,
     "metadata": {},
     "output_type": "execute_result"
    }
   ],
   "source": [
    "def analytic_kl(u1, s1, u2, s2):\n",
    "    '''For two normal distributions'''\n",
    "    return np.log(s2/s1) + (s1**2 + (u1 - u2)**2)/(2*(s2**2)) - .5\n",
    "\n",
    "analytic_kl(.1, 1.1, 0, 1)"
   ]
  },
  {
   "cell_type": "code",
   "execution_count": 7,
   "metadata": {},
   "outputs": [],
   "source": [
    "optimizer = tfk.optimizers.Adam()\n",
    "\n",
    "train_loss = tfk.metrics.Mean(name='train_loss')\n",
    "test_loss = tfk.metrics.Mean(name='test_loss')\n",
    "\n",
    "BATCH_SIZE = 100\n",
    "\n",
    "train_ds = (tf.data.Dataset.from_tensor_slices((x_train, y_train))\n",
    "            .shuffle(10000)\n",
    "            .batch(BATCH_SIZE, drop_remainder=True)\n",
    "           )\n",
    "\n",
    "test_ds = (tf.data.Dataset.from_tensor_slices((x_test, y_test))\n",
    "           .batch(BATCH_SIZE, drop_remainder=True)\n",
    "          )"
   ]
  },
  {
   "cell_type": "code",
   "execution_count": 8,
   "metadata": {},
   "outputs": [],
   "source": [
    "@tf.function\n",
    "def train_step(images):\n",
    "    with tf.GradientTape() as tape:\n",
    "        latent = model.encode(images)\n",
    "        kl = tf.reduce_mean(tfd.kl_divergence(latent, model.latent_prior))\n",
    "        \n",
    "        output = model.decode(latent, logit=True)\n",
    "        dist = tf.nn.sigmoid_cross_entropy_with_logits(labels=images, logits=output)\n",
    "        nll = tf.reduce_mean(tf.reduce_sum(dist, axis=[1, 2, 3]))\n",
    "        \n",
    "        loss = nll + kl\n",
    "\n",
    "    trainable = model.trainable_variables\n",
    "    gradients = tape.gradient(loss, trainable)\n",
    "    optimizer.apply_gradients(zip(gradients, trainable))\n",
    "\n",
    "    train_loss(loss)\n",
    "    # return nll, kl"
   ]
  },
  {
   "cell_type": "code",
   "execution_count": 9,
   "metadata": {},
   "outputs": [],
   "source": [
    "@tf.function\n",
    "def test_step(images):\n",
    "    output = model.call(images, logit=True)\n",
    "    dist = tf.nn.sigmoid_cross_entropy_with_logits(labels=images, logits=output)\n",
    "    nll = tf.reduce_mean(tf.reduce_sum(dist, axis=[1, 2, 3]))\n",
    "\n",
    "    test_loss(nll)"
   ]
  },
  {
   "cell_type": "code",
   "execution_count": 10,
   "metadata": {},
   "outputs": [
    {
     "data": {
      "application/vnd.jupyter.widget-view+json": {
       "model_id": "3b2c5c523e4a4730b8a9c33344f405ac",
       "version_major": 2,
       "version_minor": 0
      },
      "text/plain": [
       "HBox(children=(IntProgress(value=0), HTML(value='')))"
      ]
     },
     "metadata": {},
     "output_type": "display_data"
    },
    {
     "name": "stdout",
     "output_type": "stream",
     "text": [
      "\n"
     ]
    }
   ],
   "source": [
    "EPOCHS = 100\n",
    "\n",
    "history = defaultdict(list)\n",
    "\n",
    "for epoch in tqdm.trange(EPOCHS, unit='epoch'):\n",
    "    optimizer.lr = 1e-3\n",
    "    for images, labels in train_ds:\n",
    "        train_step(images)\n",
    "\n",
    "    for test_images, test_labels in test_ds:\n",
    "        test_step(test_images)\n",
    "\n",
    "    history['train_loss'].append(float(train_loss.result()))\n",
    "    history['test_loss'].append(float(test_loss.result()))\n",
    "\n",
    "    # Reset the metrics for the next epoch\n",
    "    train_loss.reset_states()\n",
    "    test_loss.reset_states()\n",
    "    "
   ]
  },
  {
   "cell_type": "code",
   "execution_count": 11,
   "metadata": {},
   "outputs": [
    {
     "data": {
      "text/plain": [
       "<matplotlib.axes._subplots.AxesSubplot at 0x7f59523eaba8>"
      ]
     },
     "execution_count": 11,
     "metadata": {},
     "output_type": "execute_result"
    },
    {
     "data": {
      "image/png": "[encoded data removed]",
      "text/plain": [
       "<Figure size 432x288 with 1 Axes>"
      ]
     },
     "metadata": {
      "needs_background": "light"
     },
     "output_type": "display_data"
    }
   ],
   "source": [
    "pd.DataFrame(history)[:].plot()"
   ]
  },
  {
   "cell_type": "code",
   "execution_count": 19,
   "metadata": {},
   "outputs": [
    {
     "data": {
      "image/png": "[encoded data removed]",
      "text/plain": [
       "<Figure size 864x864 with 4 Axes>"
      ]
     },
     "metadata": {
      "needs_background": "light"
     },
     "output_type": "display_data"
    }
   ],
   "source": [
    "i = 39\n",
    "\n",
    "ex = x_test[i,...,0]\n",
    "lbl = y_test[i]\n",
    "\n",
    "fig, axes = plt.subplots(ncols=2, nrows=2, figsize=(12, 12))\n",
    "\n",
    "axes[0][0].set_title(\"Entry %d, label: %d\" % (i, lbl))\n",
    "axes[0][0].imshow(ex)\n",
    "\n",
    "latent = model.encode(ex[None, ..., None])\n",
    "\n",
    "for ax in axes.flatten()[1:]:\n",
    "    ax.set_title('Sample')\n",
    "    ax.imshow(model.decode(latent.sample())[0, ..., 0])"
   ]
  },
  {
   "cell_type": "code",
   "execution_count": 18,
   "metadata": {},
   "outputs": [
    {
     "data": {
      "text/plain": [
       "<matplotlib.legend.Legend at 0x7f59d8dd2a58>"
      ]
     },
     "execution_count": 18,
     "metadata": {},
     "output_type": "execute_result"
    },
    {
     "data": {
      "image/png": "[encoded data removed]",
      "text/plain": [
       "<Figure size 432x288 with 1 Axes>"
      ]
     },
     "metadata": {
      "needs_background": "light"
     },
     "output_type": "display_data"
    }
   ],
   "source": [
    "cut = y_test == 1\n",
    "latent = model.encode(x_test[cut]).mean()\n",
    "mlatent = latent.numpy()\n",
    "vl1 = plt.violinplot(mlatent, positions=np.arange(mlatent.shape[1]) + .9)\n",
    "\n",
    "cut = y_test == 8\n",
    "latent = model.encode(x_test[cut]).mean()\n",
    "mlatent = latent.numpy()\n",
    "vl4 = plt.violinplot(mlatent, positions=np.arange(mlatent.shape[1]) + 1.1)\n",
    "\n",
    "plt.legend([vl1['cbars'], vl4['cbars']], ['1', '8'], title='Label class')"
   ]
  },
  {
   "cell_type": "code",
   "execution_count": 20,
   "metadata": {},
   "outputs": [
    {
     "data": {
      "text/plain": [
       "<tf.Tensor: id=147514, shape=(1,), dtype=float32, numpy=array([0.00196212], dtype=float32)>"
      ]
     },
     "execution_count": 20,
     "metadata": {},
     "output_type": "execute_result"
    }
   ],
   "source": [
    "latent = model.encode(x_test[1:2])\n",
    "model.latent_prior.prob(latent.sample())"
   ]
  },
  {
   "cell_type": "code",
   "execution_count": 21,
   "metadata": {},
   "outputs": [
    {
     "data": {
      "text/plain": [
       "{'loc': <tf.Tensor: id=147260, shape=(1, 4), dtype=float32, numpy=\n",
       " array([[-0.4949572 , -1.3668076 ,  0.59546757,  0.62994856]],\n",
       "       dtype=float32)>,\n",
       " 'scale_diag': <tf.Tensor: id=147263, shape=(1, 4), dtype=float32, numpy=array([[0.07859865, 0.08289573, 0.08684158, 0.05829877]], dtype=float32)>,\n",
       " 'scale_identity_multiplier': None,\n",
       " 'validate_args': False,\n",
       " 'allow_nan_stats': True,\n",
       " 'name': 'MultivariateNormalDiag'}"
      ]
     },
     "execution_count": 21,
     "metadata": {},
     "output_type": "execute_result"
    }
   ],
   "source": [
    "latent.parameters['distribution'].parameters['distributions'][1].parameters"
   ]
  },
  {
   "cell_type": "code",
   "execution_count": 22,
   "metadata": {},
   "outputs": [
    {
     "data": {
      "text/plain": [
       "{'logits': None,\n",
       " 'probs': <tf.Tensor: id=147262, shape=(1, 10), dtype=float32, numpy=\n",
       " array([[0.10231739, 0.10225618, 0.10228142, 0.10228238, 0.10225812,\n",
       "         0.10229683, 0.10226989, 0.1022647 , 0.10224631, 0.10222394]],\n",
       "       dtype=float32)>,\n",
       " 'dtype': tf.float32,\n",
       " 'validate_args': False,\n",
       " 'allow_nan_stats': True,\n",
       " 'name': 'Bernoulli'}"
      ]
     },
     "execution_count": 22,
     "metadata": {},
     "output_type": "execute_result"
    }
   ],
   "source": [
    "latent.parameters['distribution'].parameters['distributions'][0].parameters['distribution'].parameters"
   ]
  },
  {
   "cell_type": "code",
   "execution_count": 23,
   "metadata": {},
   "outputs": [
    {
     "data": {
      "text/plain": [
       "<tf.Tensor: id=147518, shape=(1, 14), dtype=float32, numpy=\n",
       "array([[ 0.10231739,  0.10225618,  0.10228142,  0.10228238,  0.10225812,\n",
       "         0.10229683,  0.10226989,  0.1022647 ,  0.10224631,  0.10222394,\n",
       "        -0.4949572 , -1.3668076 ,  0.59546757,  0.62994856]],\n",
       "      dtype=float32)>"
      ]
     },
     "execution_count": 23,
     "metadata": {},
     "output_type": "execute_result"
    }
   ],
   "source": [
    "latent.mean()"
   ]
  },
  {
   "cell_type": "code",
   "execution_count": null,
   "metadata": {},
   "outputs": [],
   "source": []
  }
 ],
 "metadata": {
  "kernelspec": {
   "display_name": "Python 3",
   "language": "python",
   "name": "python3"
  },
  "language_info": {
   "codemirror_mode": {
    "name": "ipython",
    "version": 3
   },
   "file_extension": ".py",
   "mimetype": "text/x-python",
   "name": "python",
   "nbconvert_exporter": "python",
   "pygments_lexer": "ipython3",
   "version": "3.7.3"
  }
 },
 "nbformat": 4,
 "nbformat_minor": 2
}
